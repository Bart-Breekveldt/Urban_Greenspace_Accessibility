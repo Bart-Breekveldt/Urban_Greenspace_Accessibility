{
 "cells": [
  {
   "cell_type": "code",
   "execution_count": 1,
   "id": "86fd83b9",
   "metadata": {},
   "outputs": [
    {
     "name": "stderr",
     "output_type": "stream",
     "text": [
      "C:\\Users\\bartb\\miniconda3\\envs\\ugsa\\Lib\\site-packages\\pysal\\model\\spvcm\\abstracts.py:10: UserWarning: The `dill` module is required to use the sqlite backend fully.\n",
      "  from .sqlite import head_to_sql, start_sql\n"
     ]
    }
   ],
   "source": [
    "import os\n",
    "import numpy as np\n",
    "import pandas as pd\n",
    "import geopandas as gpd\n",
    "import matplotlib.pyplot as plt\n",
    "from pysal.explore import inequality\n",
    "from inequality.gini import Gini_Spatial\n",
    "from pysal.lib import weights\n",
    "import warnings\n",
    "import osmnx as ox\n",
    "city_geo = ox.geocoder.geocode_to_gdf"
   ]
  },
  {
   "cell_type": "code",
   "execution_count": 20,
   "id": "f825908e",
   "metadata": {},
   "outputs": [],
   "source": [
    "ls_in = ['Abidjan','Addis Ababa','Baghdad','Bangalore','Belgrade','Belo Horizonte','Bogota','Bologna','Cali','Canberra',\\\n",
    "         'Casablanca','Chandigarh','Chelyabinsk','Chengdu','Christchurch','Cochabamba','Copenhagen','Curitiba','Damascus',\\\n",
    "         'Detroit','Dhaka','Dongguan','Fortaleza','Ghent','Guatemala City','Gwangju','Hanoi','Indore','Johannesburg',\\\n",
    "         'Kampala','Karlsruhe','Kathmandu','Kharkiv','Kuala Lumpur','Kumamoto','Lagos','Leicester','Liverpool',\\\n",
    "         'Lubumbashi','Lviv','Manila','Memphis','Mexico City','Mombasa','Nanjing','New Delhi','Oran','Oslo','Perth',\\\n",
    "         'Philadelphia','Pune','Rennes','Rosario','Rostov','San Antonio','San Diego','Santo Domingo','Seattle','Seoul',\\\n",
    "         'Sevilla','Shijiazhuang','Shiraz','Skopje','Surabaya','Tallinn','Tashkent','Tel Aviv','Toronto','Turin',\\\n",
    "         'Utrecht','Utsunomiya','Washington DC','Yaounde','Yerevan','Zibo']"
   ]
  },
  {
   "cell_type": "code",
   "execution_count": 3,
   "id": "ab16bb6e",
   "metadata": {},
   "outputs": [],
   "source": [
    "cities = pd.read_excel('cities.xlsx')\n",
    "cities_adj = cities[cities['City'].isin(ls_in)]\n",
    "cities_adj = cities_adj.sort_values('City').reset_index()\n",
    "\n",
    "ls_adj = ['Canberra','Karlsruhe','Oslo']\n",
    "\n",
    "cities_adj2 = cities[cities['City'].isin(ls_adj)]\n",
    "cities_adj2 = cities_adj2.sort_values('City').reset_index()"
   ]
  },
  {
   "cell_type": "code",
   "execution_count": 51,
   "id": "944e5dc1",
   "metadata": {},
   "outputs": [
    {
     "data": {
      "text/plain": [
       "array(['Abidjan.gpkg', 'Addis Ababa.gpkg', 'Baghdad.gpkg',\n",
       "       'Bangalore.gpkg', 'Belgrade.gpkg', 'Belo Horizonte.gpkg',\n",
       "       'Bogota.gpkg', 'Bologna.gpkg', 'Cali.gpkg', 'Casablanca.gpkg',\n",
       "       'Chandigarh.gpkg', 'Chelyabinsk.gpkg', 'Chengdu.gpkg',\n",
       "       'Christchurch.gpkg', 'Cochabamba.gpkg', 'Copenhagen.gpkg',\n",
       "       'Curitiba.gpkg', 'Damascus.gpkg', 'Detroit.gpkg', 'Dhaka.gpkg',\n",
       "       'Dongguan.gpkg', 'Fortaleza.gpkg', 'Ghent.gpkg',\n",
       "       'Guatemala City.gpkg', 'Gwangju.gpkg', 'Hanoi.gpkg', 'Indore.gpkg',\n",
       "       'Johannesburg.gpkg', 'Kampala.gpkg', 'Kathmandu.gpkg',\n",
       "       'Kharkiv.gpkg', 'Kuala Lumpur.gpkg', 'Kumamoto.gpkg', 'Lagos.gpkg',\n",
       "       'Leicester.gpkg', 'Liverpool.gpkg', 'Lubumbashi.gpkg', 'Lviv.gpkg',\n",
       "       'Manila.gpkg', 'Memphis.gpkg', 'Mexico City.gpkg', 'Mombasa.gpkg',\n",
       "       'Nanjing.gpkg', 'New Delhi.gpkg', 'Oran.gpkg', 'Perth.gpkg',\n",
       "       'Philadelphia.gpkg', 'Pune.gpkg', 'Rennes.gpkg', 'Rosario.gpkg',\n",
       "       'Rostov.gpkg', 'San Antonio.gpkg', 'San Diego.gpkg',\n",
       "       'Santo Domingo.gpkg', 'Seattle.gpkg', 'Seoul.gpkg', 'Sevilla.gpkg',\n",
       "       'Shijiazhuang.gpkg', 'Shiraz.gpkg', 'Skopje.gpkg', 'Surabaya.gpkg',\n",
       "       'Tallinn.gpkg', 'Tashkent.gpkg', 'Tel Aviv.gpkg', 'Toronto.gpkg',\n",
       "       'Turin.gpkg', 'Utrecht.gpkg', 'Utsunomiya.gpkg',\n",
       "       'Washington DC.gpkg', 'Yaounde.gpkg', 'Yerevan.gpkg', 'Zibo.gpkg'],\n",
       "      dtype='<U19')"
      ]
     },
     "execution_count": 51,
     "metadata": {},
     "output_type": "execute_result"
    }
   ],
   "source": [
    "ls_out"
   ]
  },
  {
   "cell_type": "code",
   "execution_count": null,
   "id": "e03fe025",
   "metadata": {},
   "outputs": [
    {
     "name": "stdout",
     "output_type": "stream",
     "text": [
      "Abidjan\n",
      "Addis Ababa\n"
     ]
    }
   ],
   "source": [
    "%%time\n",
    "path = \"D:/Dumps/GEE-WP Scores/E2SFCA/100m grids/Grid_geoms/\"\n",
    "ls_file = os.listdir(path)\n",
    "ls_file = np.array(ls_file)[[i.rsplit('.')[-1] == 'gpkg' for i in ls_file]]\n",
    "ls_file = ls_file[[any([j in i for j in ls_in]) for i in ls_file]]\n",
    "ls_bool = [any([j in i for j in ls_adj]) for i in ls_file]\n",
    "\n",
    "ls_sub = np.array(ls_file)[ls_bool]\n",
    "ls_out = np.array(ls_file)[~np.array(ls_bool)]\n",
    "\n",
    "area = [city_geo(i.split(', ')).dissolve().geometry for i in cities_adj2['OSM_ineq_adj']]\n",
    "\n",
    "j = 0\n",
    "k = 0\n",
    "city_score = []\n",
    "for i in range(len(ls_file)):\n",
    "    if ls_bool[i]:\n",
    "        city_score.append(gpd.read_file(path+ls_sub[j]))\n",
    "        \n",
    "        print(ls_sub[j].split('_')[-1].split('.')[0])\n",
    "        j = j+1\n",
    "    else:\n",
    "        city_score.append(gpd.read_file(path+ls_out[k]))\n",
    "        \n",
    "        print(ls_out[k].split('_')[-1].split('.')[0])\n",
    "        k = k+1\n",
    "\n",
    "#city_score = [gpd.read_file(path+i) for i in ls_file]"
   ]
  },
  {
   "cell_type": "code",
   "execution_count": null,
   "id": "87710b3d",
   "metadata": {
    "scrolled": true
   },
   "outputs": [],
   "source": [
    "%%time\n",
    "# For loop city/GINI\n",
    "# First non-spatial GINI for the 50 cities.\n",
    "\n",
    "# Queen contignuity\n",
    "# Spatial GINI - value cell itself\n",
    "# Weight is values of surrounding cells\n",
    "# Near and far, with weights of 1 for near and 0 for far.\n",
    "\n",
    "warnings.filterwarnings('ignore')\n",
    "cities_gini = []\n",
    "cities_spatialgini = []\n",
    "for city in enumerate(city_score):\n",
    "    tr_gini = []\n",
    "    tr_spatialgini = []\n",
    "    print(ls_file[city[0]].split('.')[0])\n",
    "    for i in city[1].columns[city[1].columns.str.contains('Sc-access')]:\n",
    "        float_df = city[1][['geometry','population',i]]\n",
    "\n",
    "        gini = pd.DataFrame(float_df[i].value_counts()).sort_index()\n",
    "        gini['pop'] = float_df.groupby(i)['population'].sum()\n",
    "        gini = gini.reset_index()\n",
    "        gini['frac_pop'] = gini['pop'] / gini['pop'].sum()\n",
    "        gini['richer_frac'] = 1-gini['frac_pop'].cumsum()\n",
    "        gini['ugs'] = (gini['index'] * gini['pop']) \n",
    "        gini['frac_ugs'] = gini.ugs/gini.ugs.sum()\n",
    "        gini_score = 1-(gini.frac_ugs*(gini.frac_pop+2*gini.richer_frac)).sum()\n",
    "        print('gini',i.rsplit(' ')[-1],round(gini_score,4))\n",
    "        tr_gini.append(gini_score)\n",
    "        \n",
    "        wq = weights.Queen.from_dataframe(float_df)\n",
    "        wq.transform = \"B\"\n",
    "        spatial_gini = Gini_Spatial(float_df[i], wq).g\n",
    "        print('spatial gini',i.rsplit(' ')[-1],round(spatial_gini,4))\n",
    "        tr_spatialgini.append(spatial_gini)\n",
    "    cities_gini.append(tr_gini)\n",
    "    cities_spatialgini.append(tr_spatialgini)\n",
    "    print(' ')"
   ]
  },
  {
   "cell_type": "code",
   "execution_count": null,
   "id": "14f8573c",
   "metadata": {},
   "outputs": [],
   "source": [
    "gini_df = pd.DataFrame(cities_gini, columns = ['Gini E-300','Gini E-600','Gini E-1000'])\n",
    "spatialgini_df = pd.DataFrame(cities_spatialgini, columns = ['S-gini E-300','S-gini E-600','S-gini E-1000'])\n",
    "comb_gini = pd.concat([gini_df, spatialgini_df], axis = 1)\n",
    "comb_gini.index = [i.split('.')[0] for i in ls_file]\n",
    "comb_gini"
   ]
  },
  {
   "cell_type": "code",
   "execution_count": null,
   "id": "e75d3127",
   "metadata": {
    "scrolled": true
   },
   "outputs": [],
   "source": [
    "comb_gini2 = comb_gini\n",
    "comb_gini.sort_values(by='S-gini E-300')"
   ]
  },
  {
   "cell_type": "code",
   "execution_count": null,
   "id": "77214cf6",
   "metadata": {},
   "outputs": [],
   "source": [
    "comb_gini.to_csv('D:/Dumps/GEE-WP Scores/E2SFCA/gini_scores.csv')"
   ]
  },
  {
   "cell_type": "code",
   "execution_count": null,
   "id": "b1bbf18f",
   "metadata": {},
   "outputs": [],
   "source": [
    "%%time\n",
    "path = \"D:/Dumps/GEE-WP Scores/Gravity/100m grids/Grid_geoms/\"\n",
    "ls_file = os.listdir(path)\n",
    "ls_file = np.array(ls_file)[[i.rsplit('_')[1] == 'grav3' for i in ls_file]]\n",
    "ls_file = ls_file[[any([j in i for j in ls_in]) for i in ls_file]]\n",
    "ls_bool = [any([j in i for j in ls_adj]) for i in ls_file]\n",
    "\n",
    "ls_sub = np.array(ls_file)[ls_bool]\n",
    "ls_out = np.array(ls_file)[~np.array(ls_bool)]\n",
    "\n",
    "area = [city_geo(i.split(', ')).dissolve().geometry for i in cities_adj2['OSM_ineq_adj']]\n",
    "\n",
    "j = 0\n",
    "k = 0\n",
    "city_score = []\n",
    "for i in range(len(ls_file)):\n",
    "    if ls_bool[i]:\n",
    "        city_score.append(gpd.read_file(path+ls_sub[j]))\n",
    "        \n",
    "        print(ls_sub[j].split('_')[-1].split('.')[0])\n",
    "        j = j+1\n",
    "    else:\n",
    "        city_score.append(gpd.read_file(path+ls_out[k]))\n",
    "        \n",
    "        print(ls_out[k].split('_')[-1].split('.')[0])\n",
    "        k = k+1"
   ]
  },
  {
   "cell_type": "code",
   "execution_count": null,
   "id": "8c6a4a7a",
   "metadata": {},
   "outputs": [],
   "source": [
    "%%time\n",
    "warnings.filterwarnings('ignore')\n",
    "Gcities_gini = []\n",
    "Gcities_spatialgini = []\n",
    "for city in enumerate(city_score):\n",
    "    Gtr_gini = []\n",
    "    Gtr_spatialgini = []\n",
    "    print(ls_file[city[0]].split('.')[0].split('_')[-1])\n",
    "    for i in city[1][['tr_300','tr_600','tr_1000']]:\n",
    "        float_df = city[1][city[1][i].isna() == False][['geometry','population',i]]\n",
    "\n",
    "        gini = pd.DataFrame(float_df[i].value_counts()).sort_index()\n",
    "        gini['pop'] = float_df.groupby(i)['population'].sum()\n",
    "        gini = gini.reset_index()\n",
    "        gini['frac_pop'] = gini['pop'] / gini['pop'].sum()\n",
    "        gini['richer_frac'] = 1-gini['frac_pop'].cumsum()\n",
    "        gini['ugs'] = (gini['index'] * gini['pop']) \n",
    "        gini['frac_ugs'] = gini.ugs/gini.ugs.sum()\n",
    "        gini_score = 1-(gini.frac_ugs*(gini.frac_pop+2*gini.richer_frac)).sum()\n",
    "        print('gini',i.rsplit('_')[-1],round(gini_score,4))\n",
    "        Gtr_gini.append(gini_score)\n",
    "        \n",
    "        wq = weights.Queen.from_dataframe(float_df)\n",
    "        wq.transform = \"B\"\n",
    "        spatial_gini = Gini_Spatial(float_df[i], wq).g\n",
    "        print('spatial gini',i.rsplit('_')[-1],round(spatial_gini,4))\n",
    "        Gtr_spatialgini.append(spatial_gini)\n",
    "    Gcities_gini.append(Gtr_gini)\n",
    "    Gcities_spatialgini.append(Gtr_spatialgini)\n",
    "    print(' ')"
   ]
  },
  {
   "cell_type": "code",
   "execution_count": null,
   "id": "53d7d01c",
   "metadata": {},
   "outputs": [],
   "source": [
    "Ggini_df = pd.DataFrame(Gcities_gini, columns = ['Gini G-300','Gini G-600','Gini G-1000'])\n",
    "Gspatialgini_df = pd.DataFrame(Gcities_spatialgini, columns = ['S-gini G-300','S-gini G-600','S-gini G-1000'])\n",
    "Gcomb_gini = pd.concat([Ggini_df, Gspatialgini_df], axis = 1)\n",
    "Gcomb_gini.index = [i.split('.')[0].split('_')[-1] for i in ls_file]\n",
    "Gcomb_gini"
   ]
  },
  {
   "cell_type": "code",
   "execution_count": null,
   "id": "813c851a",
   "metadata": {},
   "outputs": [],
   "source": [
    "Gcomb_gini.to_csv('D:/Dumps/GEE-WP Scores/Gravity/gini_scores')"
   ]
  },
  {
   "cell_type": "code",
   "execution_count": null,
   "id": "68c2bc78",
   "metadata": {},
   "outputs": [],
   "source": [
    "gini_comb = pd.concat([comb_gini, Gcomb_gini], axis = 1)\n",
    "gini_comb.to_csv('D:/Dumps/GEE-WP Scores/gini_all.csv')\n",
    "gini_comb"
   ]
  },
  {
   "cell_type": "code",
   "execution_count": null,
   "id": "6579d039",
   "metadata": {},
   "outputs": [],
   "source": []
  },
  {
   "cell_type": "code",
   "execution_count": null,
   "id": "6b0e951d",
   "metadata": {},
   "outputs": [],
   "source": []
  }
 ],
 "metadata": {
  "kernelspec": {
   "display_name": "Python 3 (ipykernel)",
   "language": "python",
   "name": "python3"
  },
  "language_info": {
   "codemirror_mode": {
    "name": "ipython",
    "version": 3
   },
   "file_extension": ".py",
   "mimetype": "text/x-python",
   "name": "python",
   "nbconvert_exporter": "python",
   "pygments_lexer": "ipython3",
   "version": "3.11.3"
  }
 },
 "nbformat": 4,
 "nbformat_minor": 5
}
