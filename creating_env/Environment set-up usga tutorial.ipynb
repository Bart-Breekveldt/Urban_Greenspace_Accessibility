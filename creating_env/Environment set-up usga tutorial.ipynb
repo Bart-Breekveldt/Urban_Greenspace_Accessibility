{
 "cells": [
  {
   "cell_type": "markdown",
   "id": "5e10b0c1",
   "metadata": {},
   "source": [
    "This tutorial is aimed for those who want to work with the Urban Greenspace Accessibility code/package. This instructs how to install and enable the package/code in Python. This is aimed to create a environment installing only required packages to get it as lightweight as possible.\n",
    "\n",
    "## Miniconda set-up Urban Greenspace Accessibility with Python\n",
    "\n",
    "At first miniconda needs to be installed. Miniconda is a less sophisticated, but lighter version of Anaconda itself. Miniconda can be downloaded from:\n",
    "\n",
    "https://docs.conda.io/en/latest/miniconda.html\n",
    "\n",
    "Python is installed for miniconda, while installing it. While installing, it is recommended to set Miniconda as system python and add Miniconda to the PATH environment variable. More detailed information for installing miniconda can be found:\n",
    "\n",
    "https://katiekodes.com/setup-python-windows-miniconda/\n",
    "\n",
    "### Installing environment\n",
    "When installed open the Anaconda prompt (miniconda3). In here you can give commands to customize your miniconda environments. An environment can be created by:"
   ]
  },
  {
   "cell_type": "code",
   "execution_count": null,
   "id": "7a7b6cc3",
   "metadata": {},
   "outputs": [],
   "source": [
    "# conda create -n env_name"
   ]
  },
  {
   "cell_type": "markdown",
   "id": "4de2ab6f",
   "metadata": {},
   "source": [
    "### Configuring environment\n",
    "To get the environment working properly check if the following files are in your_path/miniconda3/DLLs/\n",
    "- libcrypto-1_1-x64.dll\n",
    "- libssl-1_1-x64.dll\n",
    "If not, the files can be found on the GitHub or finding it at https://www.dll-files.com/\n",
    "Place those files in your_path/miniconda3/DLLs/ directory\n",
    "\n",
    "to activate the environment run"
   ]
  },
  {
   "cell_type": "code",
   "execution_count": null,
   "id": "84181157",
   "metadata": {},
   "outputs": [],
   "source": [
    "# conda activate env_name"
   ]
  },
  {
   "cell_type": "markdown",
   "id": "57b30001",
   "metadata": {},
   "source": [
    "All next steps need to be undertaken within the environment\n",
    "\n",
    "To facilitate certain packages openpyxl needs to be installed:"
   ]
  },
  {
   "cell_type": "code",
   "execution_count": 1,
   "id": "a34f160d",
   "metadata": {},
   "outputs": [
    {
     "name": "stdout",
     "output_type": "stream",
     "text": [
      "\n",
      "Note: you may need to restart the kernel to use updated packages.\n"
     ]
    },
    {
     "name": "stderr",
     "output_type": "stream",
     "text": [
      "usage: conda-script.py [-h] [-V] command ...\n",
      "conda-script.py: error: unrecognized arguments: openpyxl\n"
     ]
    }
   ],
   "source": [
    "# conda install openpyxl"
   ]
  },
  {
   "cell_type": "markdown",
   "id": "8101bdfb",
   "metadata": {},
   "source": [
    "### Installing Python scriptwriter\n",
    "The Python IDE, environment or scriptwriter Jupyter can be installed by:"
   ]
  },
  {
   "cell_type": "code",
   "execution_count": null,
   "id": "7ccce715",
   "metadata": {},
   "outputs": [],
   "source": [
    "# conda install jupyter"
   ]
  },
  {
   "cell_type": "markdown",
   "id": "fc7556fd",
   "metadata": {},
   "source": [
    "To activate the jupyter notebook in the miniconda prompt type and run:"
   ]
  },
  {
   "cell_type": "code",
   "execution_count": null,
   "id": "ebe19fac",
   "metadata": {},
   "outputs": [],
   "source": [
    "# jupyter notebook"
   ]
  },
  {
   "cell_type": "markdown",
   "id": "e24a7697",
   "metadata": {},
   "source": [
    "### Various packages are required in the environment.\n",
    "\n",
    "<br>sys: Python system interactions\n",
    "<br>time: tracking time\n",
    "<br>warnings: ignore certain warnings\n",
    "<br>os: operating system interfaces\n",
    "<br>fiona: geo file type interaction\n",
    "\n",
    "<br>numpy: powerful array computing package\n",
    "<br>math: provides basic constants and math functions\n",
    "<br>itertools: functions creating iterators for efficient looping\n",
    "<br>pandas: data series, tables and data manipulation\n",
    "\n",
    "<br>shapely: create, manipulate and analyze geometric objects\n",
    "<br>libpysal: spatial analysis of geometric objects\n",
    "<br>rasterio: raster creation and manipulation\n",
    "<br>geopandas: integrating pandas and geospatial data\n",
    "\n",
    "<br>networkx: graph-package for finding shortest paths\n",
    "<br>osmnx: package for extracting OpenStreetMap features.\n",
    "<br>earth_engine (ee): Google geospatial data storage, analysis and visualization\n",
    "<br>geemap: interactive mapping with Google earth_engine\n",
    "\n",
    "### Installing packages with environment\n",
    "either this can be installed installing the environment in the miniconda prompt \n",
    "\n",
    "ps. this is assuming the file is in environment directory, if not use cd new_directory in the miniconda prompt, otherwise specify the file path with the file name as below."
   ]
  },
  {
   "cell_type": "code",
   "execution_count": 21,
   "id": "58a023f1",
   "metadata": {},
   "outputs": [
    {
     "name": "stdout",
     "output_type": "stream",
     "text": [
      "\n",
      "Note: you may need to restart the kernel to use updated packages.\n"
     ]
    },
    {
     "name": "stderr",
     "output_type": "stream",
     "text": [
      "usage: conda-script.py [-h] [-V] command ...\n",
      "conda-script.py: error: unrecognized arguments: numpy\n"
     ]
    }
   ],
   "source": [
    "# conda install --file usga.yml"
   ]
  },
  {
   "cell_type": "markdown",
   "id": "5cfa6450",
   "metadata": {},
   "source": [
    "### Installing packages manually\n",
    "Alternatively the packages can be installed seperately in the miniconda itself preferably in the miniconda prompt, or with an exclamation mark (!) in front in the notebook."
   ]
  },
  {
   "cell_type": "code",
   "execution_count": null,
   "id": "bd2f6d95",
   "metadata": {},
   "outputs": [],
   "source": [
    "#conda install sys\n",
    "#conda install time\n",
    "#conda install warnings\n",
    "#conda install os\n",
    "#conda install -c conda-forge fiona\n",
    "#conda install numpy\n",
    "#conda install math\n",
    "#conda install itertools\n",
    "#conda install pandas\n",
    "#conda install -c conda-forge shapely\n",
    "#conda install -c conda-forge libpysal\n",
    "#conda install -c conda-forge rasterio\n",
    "#conda install -c conda-forge geopandas\n",
    "#conda install networkx\n",
    "#conda install -c conda-forge osmnx\n",
    "#conda install -c conda-forge earthengine_api\n",
    "#conda install -c conda-forge geemap"
   ]
  },
  {
   "cell_type": "code",
   "execution_count": null,
   "id": "c6a84ab7",
   "metadata": {},
   "outputs": [],
   "source": [
    "# Again with the command \"jupyter notebook\" you can open the directory to create and/or run notebooks when completed."
   ]
  }
 ],
 "metadata": {
  "kernelspec": {
   "display_name": "Python 3 (ipykernel)",
   "language": "python",
   "name": "python3"
  },
  "language_info": {
   "codemirror_mode": {
    "name": "ipython",
    "version": 3
   },
   "file_extension": ".py",
   "mimetype": "text/x-python",
   "name": "python",
   "nbconvert_exporter": "python",
   "pygments_lexer": "ipython3",
   "version": "3.9.10"
  }
 },
 "nbformat": 4,
 "nbformat_minor": 5
}
