{
 "cells": [
  {
   "cell_type": "code",
   "execution_count": 32,
   "id": "87d839c6",
   "metadata": {},
   "outputs": [],
   "source": [
    "import numpy as np\n",
    "import pandas as pd\n",
    "import geopandas as gpd\n",
    "import warnings\n",
    "from shapely.geometry import Polygon\n",
    "import sys\n",
    "import os\n",
    "import osmnx as ox\n",
    "city_geo = ox.geocoder.geocode_to_gdf"
   ]
  },
  {
   "cell_type": "code",
   "execution_count": 33,
   "id": "bfe2a9ec",
   "metadata": {},
   "outputs": [],
   "source": [
    "thresholds = [300, 600, 1000]"
   ]
  },
  {
   "cell_type": "code",
   "execution_count": 34,
   "id": "6550f610",
   "metadata": {},
   "outputs": [],
   "source": [
    "ls_in = ['Abidjan','Addis Ababa','Baghdad','Bangalore','Belgrade','Belo Horizonte','Bogota','Bologna','Cali','Canberra',\\\n",
    "         'Casablanca','Chandigarh','Chelyabinsk','Chengdu','Christchurch','Cochabamba','Copenhagen','Curitiba','Damascus',\\\n",
    "         'Detroit','Dhaka','Dongguan','Fortaleza','Ghent','Guatemala City','Gwangju','Hanoi','Indore','Johannesburg',\\\n",
    "         'Kampala','Karlsruhe','Kathmandu','Kharkiv','Kuala Lumpur','Kumamoto','Lagos','Leicester','Liverpool',\\\n",
    "         'Lubumbashi','Lviv','Manila','Memphis','Mexico City','Mombasa','Nanjing','New Delhi','Oran','Oslo','Perth',\\\n",
    "         'Philadelphia','Pune','Rennes','Rosario','Rostov','San Antonio','San Diego','Santo Domingo','Seattle','Seoul',\\\n",
    "         'Sevilla','Shijiazhuang','Shiraz','Skopje','Surabaya','Tallinn','Tashkent','Tel Aviv','Toronto','Turin',\\\n",
    "         'Utrecht','Utsunomiya','Washington DC','Yaounde','Yerevan','Zibo']"
   ]
  },
  {
   "cell_type": "code",
   "execution_count": 35,
   "id": "9ad01689",
   "metadata": {},
   "outputs": [],
   "source": [
    "cities = pd.read_excel('cities.xlsx')\n",
    "cities_adj = cities[cities['City'].isin(ls_in)]\n",
    "cities_adj = cities_adj.sort_values('City').reset_index()\n",
    "\n",
    "ls_adj = ['Canberra','Karlsruhe','Oslo']\n",
    "\n",
    "cities_adj2 = cities[cities['City'].isin(ls_adj)]\n",
    "cities_adj2 = cities_adj2.sort_values('City').reset_index()"
   ]
  },
  {
   "cell_type": "code",
   "execution_count": 36,
   "id": "dde56538",
   "metadata": {},
   "outputs": [
    {
     "data": {
      "text/plain": [
       "Abidjan            POINT (-4.00962 5.34699)\n",
       "Addis Ababa        POINT (38.78696 8.98080)\n",
       "Baghdad           POINT (44.37208 33.32650)\n",
       "Bangalore         POINT (77.59610 12.95079)\n",
       "Belgrade          POINT (20.42554 44.80930)\n",
       "                            ...            \n",
       "Utsunomiya       POINT (139.88657 36.59688)\n",
       "Washington DC    POINT (-77.01637 38.90483)\n",
       "Yaounde            POINT (11.50038 3.85368)\n",
       "Yerevan           POINT (44.50722 40.16141)\n",
       "Zibo             POINT (118.06205 36.80911)\n",
       "Length: 75, dtype: geometry"
      ]
     },
     "execution_count": 36,
     "metadata": {},
     "output_type": "execute_result"
    }
   ],
   "source": [
    "ser = gpd.GeoSeries(crs = 4326)\n",
    "for i in cities_adj['OSM_area']:\n",
    "    ser = pd.concat([ser, city_geo(i.split(', ')).dissolve().geometry.centroid])\n",
    "ser.index = ls_in\n",
    "ser"
   ]
  },
  {
   "cell_type": "code",
   "execution_count": 37,
   "id": "961b16c3",
   "metadata": {},
   "outputs": [],
   "source": [
    "ser.to_file('D:/Dumps/GEE-WP Scores/cities.gpkg')"
   ]
  },
  {
   "cell_type": "code",
   "execution_count": null,
   "id": "9db49771",
   "metadata": {
    "scrolled": false
   },
   "outputs": [
    {
     "name": "stdout",
     "output_type": "stream",
     "text": [
      "preorocessing done\n",
      "\n",
      "Abidjan 300\n",
      "Abidjan 600\n",
      "Abidjan 1000\n",
      "Addis Ababa 300\n",
      "Addis Ababa 600\n",
      "Addis Ababa 1000\n",
      "Baghdad 300\n",
      "Baghdad 600\n",
      "Baghdad 1000\n",
      "Bangalore 300\n",
      "Bangalore 600\n",
      "Bangalore 1000\n",
      "Belgrade 300\n",
      "Belgrade 600\n",
      "Belgrade 1000\n",
      "Belo Horizonte 300\n",
      "Belo Horizonte 600\n",
      "Belo Horizonte 1000\n",
      "Bogota 300\n",
      "Bogota 600\n",
      "Bogota 1000\n",
      "Bologna 300\n",
      "Bologna 600\n",
      "Bologna 1000\n",
      "Cali 300\n",
      "Cali 600\n",
      "Cali 1000\n",
      "Canberra 300\n",
      "Canberra 600\n",
      "Canberra 1000\n",
      "Casablanca 300\n",
      "Casablanca 600\n",
      "Casablanca 1000\n",
      "Chandigarh 300\n",
      "Chandigarh 600\n",
      "Chandigarh 1000\n",
      "Chelyabinsk 300\n",
      "Chelyabinsk 600\n",
      "Chelyabinsk 1000\n",
      "Chengdu 300\n",
      "Chengdu 600\n",
      "Chengdu 1000\n",
      "Christchurch 300\n",
      "Christchurch 600\n",
      "Christchurch 1000\n",
      "Cochabamba 300\n",
      "Cochabamba 600\n",
      "Cochabamba 1000\n",
      "Copenhagen 300\n",
      "Copenhagen 600\n",
      "Copenhagen 1000\n",
      "Curitiba 300\n",
      "Curitiba 600\n",
      "Curitiba 1000\n",
      "Damascus 300\n",
      "Damascus 600\n",
      "Damascus 1000\n",
      "Detroit 300\n",
      "Detroit 600\n",
      "Detroit 1000\n",
      "Dhaka 300\n",
      "Dhaka 600\n",
      "Dhaka 1000\n",
      "Dongguan 300\n",
      "Dongguan 600\n",
      "Dongguan 1000\n",
      "Fortaleza 300\n",
      "Fortaleza 600\n",
      "Fortaleza 1000\n",
      "Ghent 300\n",
      "Ghent 600\n",
      "Ghent 1000\n",
      "Guatemala City 300\n",
      "Guatemala City 600\n",
      "Guatemala City 1000\n"
     ]
    }
   ],
   "source": [
    "%%time\n",
    "warnings.filterwarnings('ignore')\n",
    "\n",
    "path = \"D:/Dumps/GEE-WP Scores/Gravity/100m grids/Grid_geoms/\"\n",
    "ls_file = os.listdir(path)\n",
    "ls_file = np.array(ls_file)[[i.rsplit('_')[1] == 'grav3' for i in ls_file]]\n",
    "ls_file = ls_file[[any([j in i for j in ls_in]) for i in ls_file]]\n",
    "\n",
    "ls_2 = ls_file[[any([j in i for j in ls_adj]) for i in ls_file]]\n",
    "\n",
    "warnings.filterwarnings('ignore')\n",
    "area = [city_geo(i.split(', ')).dissolve().geometry for i in cities_adj2['OSM_ineq_adj']]\n",
    "files = [gpd.read_file(path+i) for i in ls_2]\n",
    "scores = [files[i].overlay(gpd.GeoDataFrame(geometry = area[i], crs = 4326)) for i in range(len(files))]\n",
    "\n",
    "print('preorocessing done')\n",
    "print('')\n",
    "\n",
    "cities_scores = list()\n",
    "for i in enumerate(ls_file):\n",
    "    city_score = gpd.read_file(path+i[1])\n",
    "    \n",
    "    k = 0\n",
    "    if i[1] in ls_adj:\n",
    "        city_score2 = scores[k]\n",
    "        k = k+1\n",
    "    else:\n",
    "        city_score2 = city_score\n",
    "    \n",
    "    scores_df = city_score.iloc[range(0,len(city_score2),3)]['geometry'].reset_index(drop = True)\n",
    "    for j in thresholds:\n",
    "        ls = list()\n",
    "        score = city_score['tr_'+str(j)].dropna().reset_index(drop =True)\n",
    "        for k in score:\n",
    "            if k == 0: \n",
    "                ls.append('0 no')\n",
    "            elif k < j: # one perfect score (no route cost to UGS); score is threshold - route (and entry) cost\n",
    "                ls.append('1 low')\n",
    "            elif k < j*2: # two perfect scores\n",
    "                ls.append('2 mediocre')\n",
    "            elif k < j*3: # three perfect scores\n",
    "                ls.append('3 sufficient')\n",
    "            elif k < j*4: # four perfect scores\n",
    "                ls.append('4 good')\n",
    "            else: # above four perfect scores (or 8 UGS on half the threshold distance)\n",
    "                ls.append('5 excellent')\n",
    "        print(i[1].rsplit('_')[2].rsplit('.')[0], j)\n",
    "        scores_df = pd.concat([scores_df, \n",
    "                               pd.Series(round(score, 1), name = 'Grav-Sc '+str(j)), \n",
    "                               pd.Series(ls, name = 'GravQnt '+str(j))], \n",
    "                              axis = 1)\n",
    "    cities_scores.append(scores_df)\n",
    "cities_scores[0]"
   ]
  },
  {
   "cell_type": "code",
   "execution_count": null,
   "id": "47f5bb50",
   "metadata": {
    "scrolled": false
   },
   "outputs": [],
   "source": [
    "%%time\n",
    "E2SCFA_class = list()\n",
    "path = \"D:/Dumps/GEE-WP Scores/E2SFCA/100m grids/grid_geoms/\"\n",
    "ls_file = np.array(os.listdir(path))\n",
    "#ls_file = pd.Series(ls_file)[pd.Series(ls_file).str.contains('gpkg')].tolist()\n",
    "ls_file = ls_file[[any([j in i for j in ls_in]) for i in ls_file]]\n",
    "\n",
    "ls_2 = ls_file[[any([j in i for j in ls_adj]) for i in ls_file]]\n",
    "\n",
    "warnings.filterwarnings('ignore')\n",
    "area = [city_geo(i.split(', ')).dissolve().geometry for i in cities_adj2['OSM_ineq_adj']]\n",
    "files = [gpd.read_file(path+i) for i in ls_2]\n",
    "scores = [files[i].overlay(gpd.GeoDataFrame(geometry = area[i], crs = 4326)) for i in range(len(files))]\n",
    "\n",
    "for i in ls_file:\n",
    "    city_score = gpd.read_file(path+i)\n",
    "    \n",
    "    k = 0\n",
    "    if i[1] in ls_adj:\n",
    "        city_score2 = scores[k]\n",
    "        k = k+1\n",
    "    else:\n",
    "        city_score2 = city_score\n",
    "    \n",
    "    score_df = city_score[['population']]\n",
    "    for j in thresholds:\n",
    "        ls = list()\n",
    "        score = city_score['Sc-norm '+str(j)]\n",
    "        for k in score:\n",
    "            if k == 0: # m2 of UGS per person and weighted with Gaussian (threshold capped) distance decay\n",
    "                ls.append('0 no')\n",
    "            elif k < 9: # m2 per person required by the WHO\n",
    "                ls.append('1 low')\n",
    "            elif k < 18: # m2 per person twice required by the WHO\n",
    "                ls.append('2 mediocre')\n",
    "            elif k < 30: # m2 per person preferred by the WHO\n",
    "                ls.append('3 sufficient')\n",
    "            elif k < 100: # over 100m2 per person, the additive value of m2 per person becomes almost obsolete\n",
    "                ls.append('4 good') # below the 100m2 is still a good score\n",
    "            else:\n",
    "                ls.append('5 excellent') # above it will be excellent\n",
    "        print(i.rsplit('.')[0], j)\n",
    "        score_df = pd.concat([score_df, \n",
    "                              round(pd.Series(score, name = 'E2SCFA-Sc '+str(j)),2), \n",
    "                              pd.Series(ls, name = 'E2SCFA-class '+str(j))], \n",
    "                             axis = 1)\n",
    "    E2SCFA_class.append(score_df)\n",
    "E2SCFA_class[0]"
   ]
  },
  {
   "cell_type": "code",
   "execution_count": null,
   "id": "bf93c584",
   "metadata": {},
   "outputs": [],
   "source": [
    "%%time\n",
    "scores = list()\n",
    "write_path = 'D:/Dumps/GEE-WP Scores/city_summary/'\n",
    "for i in range(len(E2SCFA_class)):\n",
    "    score = pd.concat([E2SCFA_class[i], cities_scores[i]], axis = 1)\n",
    "    \n",
    "    score = score[['geometry','population',\n",
    "                   'E2SCFA-class 300','E2SCFA-class 600','E2SCFA-class 1000',\n",
    "                   'GravQnt 300','GravQnt 600','GravQnt 1000',\n",
    "                   'E2SCFA-Sc 300','E2SCFA-Sc 600','E2SCFA-Sc 1000',\n",
    "                   'Grav-Sc 300','Grav-Sc 600','Grav-Sc 1000']]\n",
    "        \n",
    "    # Adding categories without grid geoms attached to ensure that each category is in a plotted map\n",
    "    ls2 = pd.DataFrame(list([\n",
    "                [Polygon(),'5 excellent','5 excellent','5 excellent','5 excellent','5 excellent','5 excellent'],\n",
    "                [Polygon(),'4 good','4 good','4 good','4 good','4 good','4 good'],\n",
    "                [Polygon(),'3 sufficient','3 sufficient','3 sufficient','3 sufficient','3 sufficient','3 sufficient'],\n",
    "                [Polygon(),'2 mediocre','2 mediocre','2 mediocre','2 mediocre','2 mediocre','2 mediocre'],\n",
    "                [Polygon(),'1 low','1 low','1 low','1 low','1 low','1 low'],\n",
    "                [Polygon(),'0 no','0 no','0 no','0 no','0 no','0 no']]))\n",
    "    \n",
    "    ls2.columns = ['geometry',\n",
    "                   'E2SCFA-class 300','E2SCFA-class 600','E2SCFA-class 1000',\n",
    "                   'GravQnt 300','GravQnt 600','GravQnt 1000']\n",
    "    \n",
    "    score = pd.concat([score, pd.DataFrame(ls2)])\n",
    "    \n",
    "    score = gpd.GeoDataFrame(score, geometry = 'geometry', crs = 4326)\n",
    "    score.to_file(write_path+cities_adj['City'][i]+'.gpkg')\n",
    "    score.iloc[:,score.columns != 'geometry'].to_csv(write_path+cities_adj['City'][i]+'.csv')\n",
    "    print(cities_adj['City'][i])\n",
    "    scores.append(score)"
   ]
  },
  {
   "cell_type": "code",
   "execution_count": null,
   "id": "d5bdd722",
   "metadata": {
    "scrolled": false
   },
   "outputs": [],
   "source": [
    "[[print(city[1], \n",
    "        scores[cities_adj['City'][0]].groupby('E2SCFA-class '+str(t))['E2SCFA-class '+str(t)].count()) \n",
    "  for t in thresholds] \n",
    " for city in enumerate(cities)]\n",
    "sys.stdout.flush()"
   ]
  },
  {
   "cell_type": "code",
   "execution_count": null,
   "id": "ccd3d734",
   "metadata": {
    "scrolled": false
   },
   "outputs": [],
   "source": [
    "summ_df = pd.DataFrame([i.groupby('E2SCFA-class 300')['population'].sum() / i['population'].sum() for i in scores])\n",
    "summ_df.index = cities_adj['City']\n",
    "summ_df.to_csv(write_path+'E2SFCA_300_popweighaccess.csv')"
   ]
  },
  {
   "cell_type": "code",
   "execution_count": null,
   "id": "1a45171c",
   "metadata": {},
   "outputs": [],
   "source": [
    "summ_df = pd.DataFrame([i.groupby('GravQnt 300')['population'].sum() / i['population'].sum() for i in scores])\n",
    "summ_df.index = cities_adj['City']\n",
    "summ_df.to_csv(write_path+'Gravity_300_popweighaccess.csv')"
   ]
  },
  {
   "cell_type": "code",
   "execution_count": null,
   "id": "b9f3cb44",
   "metadata": {},
   "outputs": [],
   "source": [
    "summ_df.sort_values('5 excellent')"
   ]
  },
  {
   "cell_type": "code",
   "execution_count": null,
   "id": "c92b86a0",
   "metadata": {},
   "outputs": [],
   "source": []
  }
 ],
 "metadata": {
  "kernelspec": {
   "display_name": "Python 3 (ipykernel)",
   "language": "python",
   "name": "python3"
  },
  "language_info": {
   "codemirror_mode": {
    "name": "ipython",
    "version": 3
   },
   "file_extension": ".py",
   "mimetype": "text/x-python",
   "name": "python",
   "nbconvert_exporter": "python",
   "pygments_lexer": "ipython3",
   "version": "3.11.3"
  }
 },
 "nbformat": 4,
 "nbformat_minor": 5
}
